{
 "cells": [
  {
   "cell_type": "markdown",
   "id": "795f8161",
   "metadata": {},
   "source": [
    "# 🧹 Breast Cancer Dataset - Preprocessing\n",
    "\n",
    "In this notebook, we will perform the **initial preprocessing steps** on the Breast Cancer dataset from `sklearn.datasets`.  \n",
    "The goal is to clean the data, handle missing values/duplicates, format columns properly, and prepare it for further analysis.\n"
   ]
  },
  {
   "cell_type": "code",
   "execution_count": 1,
   "id": "dd17bbe1",
   "metadata": {},
   "outputs": [],
   "source": [
    "import numpy as np\n",
    "import pandas as pd\n",
    "import seaborn as sns\n",
    "import matplotlib.pyplot as plt\n",
    "from sklearn.datasets import load_breast_cancer\n"
   ]
  },
  {
   "cell_type": "markdown",
   "id": "a675e19b",
   "metadata": {},
   "source": [
    "### 1. Load the Dataset\n",
    "We use the built-in `load_breast_cancer()` function from scikit-learn.  \n",
    "This dataset contains features describing cell nuclei in breast cancer biopsies, along with a binary classification (malignant/benign).\n"
   ]
  },
  {
   "cell_type": "code",
   "execution_count": 2,
   "id": "0026f030",
   "metadata": {},
   "outputs": [],
   "source": [
    "# Load the dataset\n",
    "data = load_breast_cancer()\n",
    "df = pd.DataFrame(data.data, columns=data.feature_names)\n",
    "df['target'] = data.target"
   ]
  },
  {
   "cell_type": "markdown",
   "id": "586986eb",
   "metadata": {},
   "source": [
    "### 2. Quick Overview of the Dataset\n",
    "Let's look at the first few rows, dataset shape, info, and check for missing values or data type issues.\n"
   ]
  },
  {
   "cell_type": "code",
   "execution_count": 3,
   "id": "2570dc8f",
   "metadata": {},
   "outputs": [
    {
     "name": "stdout",
     "output_type": "stream",
     "text": [
      "   mean radius  mean texture  mean perimeter  mean area  mean smoothness  \\\n",
      "0        17.99         10.38          122.80     1001.0          0.11840   \n",
      "1        20.57         17.77          132.90     1326.0          0.08474   \n",
      "2        19.69         21.25          130.00     1203.0          0.10960   \n",
      "3        11.42         20.38           77.58      386.1          0.14250   \n",
      "4        20.29         14.34          135.10     1297.0          0.10030   \n",
      "\n",
      "   mean compactness  mean concavity  mean concave points  mean symmetry  \\\n",
      "0           0.27760          0.3001              0.14710         0.2419   \n",
      "1           0.07864          0.0869              0.07017         0.1812   \n",
      "2           0.15990          0.1974              0.12790         0.2069   \n",
      "3           0.28390          0.2414              0.10520         0.2597   \n",
      "4           0.13280          0.1980              0.10430         0.1809   \n",
      "\n",
      "   mean fractal dimension  ...  worst texture  worst perimeter  worst area  \\\n",
      "0                 0.07871  ...          17.33           184.60      2019.0   \n",
      "1                 0.05667  ...          23.41           158.80      1956.0   \n",
      "2                 0.05999  ...          25.53           152.50      1709.0   \n",
      "3                 0.09744  ...          26.50            98.87       567.7   \n",
      "4                 0.05883  ...          16.67           152.20      1575.0   \n",
      "\n",
      "   worst smoothness  worst compactness  worst concavity  worst concave points  \\\n",
      "0            0.1622             0.6656           0.7119                0.2654   \n",
      "1            0.1238             0.1866           0.2416                0.1860   \n",
      "2            0.1444             0.4245           0.4504                0.2430   \n",
      "3            0.2098             0.8663           0.6869                0.2575   \n",
      "4            0.1374             0.2050           0.4000                0.1625   \n",
      "\n",
      "   worst symmetry  worst fractal dimension  target  \n",
      "0          0.4601                  0.11890       0  \n",
      "1          0.2750                  0.08902       0  \n",
      "2          0.3613                  0.08758       0  \n",
      "3          0.6638                  0.17300       0  \n",
      "4          0.2364                  0.07678       0  \n",
      "\n",
      "[5 rows x 31 columns]\n",
      "(569, 31)\n",
      "<class 'pandas.core.frame.DataFrame'>\n",
      "RangeIndex: 569 entries, 0 to 568\n",
      "Data columns (total 31 columns):\n",
      " #   Column                   Non-Null Count  Dtype  \n",
      "---  ------                   --------------  -----  \n",
      " 0   mean radius              569 non-null    float64\n",
      " 1   mean texture             569 non-null    float64\n",
      " 2   mean perimeter           569 non-null    float64\n",
      " 3   mean area                569 non-null    float64\n",
      " 4   mean smoothness          569 non-null    float64\n",
      " 5   mean compactness         569 non-null    float64\n",
      " 6   mean concavity           569 non-null    float64\n",
      " 7   mean concave points      569 non-null    float64\n",
      " 8   mean symmetry            569 non-null    float64\n",
      " 9   mean fractal dimension   569 non-null    float64\n",
      " 10  radius error             569 non-null    float64\n",
      " 11  texture error            569 non-null    float64\n",
      " 12  perimeter error          569 non-null    float64\n",
      " 13  area error               569 non-null    float64\n",
      " 14  smoothness error         569 non-null    float64\n",
      " 15  compactness error        569 non-null    float64\n",
      " 16  concavity error          569 non-null    float64\n",
      " 17  concave points error     569 non-null    float64\n",
      " 18  symmetry error           569 non-null    float64\n",
      " 19  fractal dimension error  569 non-null    float64\n",
      " 20  worst radius             569 non-null    float64\n",
      " 21  worst texture            569 non-null    float64\n",
      " 22  worst perimeter          569 non-null    float64\n",
      " 23  worst area               569 non-null    float64\n",
      " 24  worst smoothness         569 non-null    float64\n",
      " 25  worst compactness        569 non-null    float64\n",
      " 26  worst concavity          569 non-null    float64\n",
      " 27  worst concave points     569 non-null    float64\n",
      " 28  worst symmetry           569 non-null    float64\n",
      " 29  worst fractal dimension  569 non-null    float64\n",
      " 30  target                   569 non-null    int64  \n",
      "dtypes: float64(30), int64(1)\n",
      "memory usage: 137.9 KB\n",
      "None\n",
      "mean radius                0\n",
      "mean texture               0\n",
      "mean perimeter             0\n",
      "mean area                  0\n",
      "mean smoothness            0\n",
      "mean compactness           0\n",
      "mean concavity             0\n",
      "mean concave points        0\n",
      "mean symmetry              0\n",
      "mean fractal dimension     0\n",
      "radius error               0\n",
      "texture error              0\n",
      "perimeter error            0\n",
      "area error                 0\n",
      "smoothness error           0\n",
      "compactness error          0\n",
      "concavity error            0\n",
      "concave points error       0\n",
      "symmetry error             0\n",
      "fractal dimension error    0\n",
      "worst radius               0\n",
      "worst texture              0\n",
      "worst perimeter            0\n",
      "worst area                 0\n",
      "worst smoothness           0\n",
      "worst compactness          0\n",
      "worst concavity            0\n",
      "worst concave points       0\n",
      "worst symmetry             0\n",
      "worst fractal dimension    0\n",
      "target                     0\n",
      "dtype: int64\n",
      "mean radius                float64\n",
      "mean texture               float64\n",
      "mean perimeter             float64\n",
      "mean area                  float64\n",
      "mean smoothness            float64\n",
      "mean compactness           float64\n",
      "mean concavity             float64\n",
      "mean concave points        float64\n",
      "mean symmetry              float64\n",
      "mean fractal dimension     float64\n",
      "radius error               float64\n",
      "texture error              float64\n",
      "perimeter error            float64\n",
      "area error                 float64\n",
      "smoothness error           float64\n",
      "compactness error          float64\n",
      "concavity error            float64\n",
      "concave points error       float64\n",
      "symmetry error             float64\n",
      "fractal dimension error    float64\n",
      "worst radius               float64\n",
      "worst texture              float64\n",
      "worst perimeter            float64\n",
      "worst area                 float64\n",
      "worst smoothness           float64\n",
      "worst compactness          float64\n",
      "worst concavity            float64\n",
      "worst concave points       float64\n",
      "worst symmetry             float64\n",
      "worst fractal dimension    float64\n",
      "target                       int64\n",
      "dtype: object\n"
     ]
    }
   ],
   "source": [
    "# Display the first 5 rows of the dataset\n",
    "print(df.head(5))\n",
    "\n",
    "# Display the shape of the dataset\n",
    "print(df.shape)\n",
    "\n",
    "# Show dataset information\n",
    "print(df.info())\n",
    "\n",
    "# Check for missing values\n",
    "print(df.isnull().sum())\n",
    "\n",
    "# Check column datatypes\n",
    "print(df.dtypes)"
   ]
  },
  {
   "cell_type": "markdown",
   "id": "ed11b1b1",
   "metadata": {},
   "source": [
    "### 3. Target Class Distribution\n",
    "We need to understand how balanced the dataset is (malignant vs. benign).\n"
   ]
  },
  {
   "cell_type": "code",
   "execution_count": 4,
   "id": "72e0d726",
   "metadata": {},
   "outputs": [
    {
     "data": {
      "text/plain": [
       "target\n",
       "1    357\n",
       "0    212\n",
       "Name: count, dtype: int64"
      ]
     },
     "execution_count": 4,
     "metadata": {},
     "output_type": "execute_result"
    }
   ],
   "source": [
    "# Check class balance\n",
    "df['target'].value_counts()"
   ]
  },
  {
   "cell_type": "markdown",
   "id": "8b26e69d",
   "metadata": {},
   "source": [
    "### 4. Meaning of Target Classes\n",
    "The target values (0 and 1) represent **Malignant** and **Benign** tumors.  \n",
    "We confirm this using `data.target_names`.\n"
   ]
  },
  {
   "cell_type": "code",
   "execution_count": 5,
   "id": "3cd3ff74",
   "metadata": {},
   "outputs": [
    {
     "name": "stdout",
     "output_type": "stream",
     "text": [
      "['malignant' 'benign']\n",
      "0: malignant\n",
      "1: benign\n"
     ]
    }
   ],
   "source": [
    "# Check what 0 and 1 represent in the target column\n",
    "# The variable 'target_names' comes from the 'data' object, which is a Bunch returned by sklearn.datasets.load_breast_cancer().\n",
    "print(data.target_names)\n",
    "print(\"0:\", data.target_names[0])\n",
    "print(\"1:\", data.target_names[1])"
   ]
  },
  {
   "cell_type": "markdown",
   "id": "e40c5d62",
   "metadata": {},
   "source": [
    "### 5. Visualize Target Class Distribution\n",
    "We create a bar plot to see the distribution of malignant vs benign cases.\n"
   ]
  },
  {
   "cell_type": "code",
   "execution_count": 6,
   "id": "baa09254",
   "metadata": {},
   "outputs": [
    {
     "data": {
      "image/png": "[encoded data removed]",
      "text/plain": [
       "<Figure size 800x600 with 1 Axes>"
      ]
     },
     "metadata": {},
     "output_type": "display_data"
    }
   ],
   "source": [
    "# Add legend with custom labels for target classes\n",
    "plt.figure(figsize=(8, 6))\n",
    "ax = sns.countplot(data=df, x='target', hue='target', palette='coolwarm')\n",
    "ax.set_title('Diagnosis Class Distribution')\n",
    "ax.set_xlabel('Diagnosis')\n",
    "ax.set_ylabel('Count')\n",
    "ax.legend(['malignant', 'benign'], title='Diagnosis', loc='upper left')\n",
    "plt.show()"
   ]
  },
  {
   "cell_type": "markdown",
   "id": "9a9727c7",
   "metadata": {},
   "source": [
    "### 6. Check for Duplicates\n",
    "Duplicates don’t add new information and should be removed.\n"
   ]
  },
  {
   "cell_type": "code",
   "execution_count": 7,
   "id": "a969cc4f",
   "metadata": {},
   "outputs": [
    {
     "name": "stdout",
     "output_type": "stream",
     "text": [
      "Duplicate rows: 0\n"
     ]
    }
   ],
   "source": [
    "duplicates = df.duplicated().sum()\n",
    "print(f\"Duplicate rows: {duplicates}\")"
   ]
  },
  {
   "cell_type": "markdown",
   "id": "575a7413",
   "metadata": {},
   "source": [
    "### 7. Format Column Names\n",
    "We standardize column names by making them lowercase, removing spaces, and replacing them with underscores.\n"
   ]
  },
  {
   "cell_type": "code",
   "execution_count": 8,
   "id": "58805544",
   "metadata": {},
   "outputs": [],
   "source": [
    "# Format columns\n",
    "df.columns = df.columns.str.strip().str.lower().str.replace(' ', '_')\n",
    "\n",
    "# Ensure target is categorical\n",
    "df['target'] = df['target'].astype('category')"
   ]
  },
  {
   "cell_type": "markdown",
   "id": "c489d94d",
   "metadata": {},
   "source": [
    "# Ensure target is categorical\n"
   ]
  },
  {
   "cell_type": "code",
   "execution_count": 9,
   "id": "a97e2520",
   "metadata": {},
   "outputs": [],
   "source": [
    "df['target'] = df['target'].astype('category')"
   ]
  },
  {
   "cell_type": "markdown",
   "id": "e4fee5c6",
   "metadata": {},
   "source": [
    "✅ **Preprocessing Complete!**  \n",
    "The dataset is now cleaned, standardized, and ready for **Exploratory Data Analysis (EDA)** and **Modeling**."
   ]
  },
  {
   "cell_type": "code",
   "execution_count": 10,
   "id": "d0d7ec54",
   "metadata": {},
   "outputs": [],
   "source": [
    "df.to_csv('Data/Wisconsin Breast Cancer Dataset_cleaned.csv', index=False)"
   ]
  }
 ],
 "metadata": {
  "kernelspec": {
   "display_name": "Python 3",
   "language": "python",
   "name": "python3"
  },
  "language_info": {
   "codemirror_mode": {
    "name": "ipython",
    "version": 3
   },
   "file_extension": ".py",
   "mimetype": "text/x-python",
   "name": "python",
   "nbconvert_exporter": "python",
   "pygments_lexer": "ipython3",
   "version": "3.11.0"
  }
 },
 "nbformat": 4,
 "nbformat_minor": 5
}
