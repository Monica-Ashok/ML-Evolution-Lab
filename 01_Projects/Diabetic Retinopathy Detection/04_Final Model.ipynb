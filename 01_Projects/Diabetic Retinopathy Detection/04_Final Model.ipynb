{
 "cells": [
  {
   "metadata": {},
   "cell_type": "markdown",
   "source": [
    "## Automated Diabetic Retinopathy Screening – Phase 4: Final Evaluation & Packaging\n",
    "\n",
    "### 🎯 **Objective**\n",
    "The goal of this final notebook is to take our best-performing model from the experimentation phase, `best_model.keras`, and use it to generate a final submission file for the unlabeled Kaggle test set. This notebook will serve as the definitive conclusion to our Proof-of-Concept, providing a final executive summary and a clear, data-driven roadmap for future development.\n",
    "\n",
    "---\n",
    "\n",
    "### 🧾 **Business Rationale (Senior BA Perspective)**\n",
    "This notebook represents the final deliverable of our technical PoC. Having successfully identified and optimized a winning architecture in the previous phase, our task now is to package this asset for its final test run and to formally conclude the project.\n",
    "\n",
    "The `submission.csv` file generated here is the tangible output that fulfills the project's technical requirements. More importantly, the final summary and future roadmap will be the key strategic documents we use to make a business case for \"Project MedVision: Phase 2,\" outlining the necessary steps to transition this successful prototype into a production-ready, clinical-grade solution.\n"
   ],
   "id": "99682008df71fbd7"
  },
  {
   "metadata": {
    "ExecuteTime": {
     "end_time": "2025-10-03T14:52:51.141148Z",
     "start_time": "2025-10-03T14:52:51.132452Z"
    }
   },
   "cell_type": "code",
   "source": [
    "#SETUP, LIBRARIES, AND DATA LOADING\n",
    "\n",
    "import pandas as pd\n",
    "import numpy as np\n",
    "import tensorflow as tf\n",
    "from tensorflow.keras.models import load_model\n",
    "from tensorflow.keras.preprocessing.image import ImageDataGenerator\n",
    "import os\n",
    "from tqdm import tqdm\n",
    "\n",
    "# --- Configuration ---\n",
    "# The model file we saved from our previous notebook\n",
    "MODEL_PATH = \"best_model.keras\"\n",
    "\n",
    "# Paths for the unlabeled test data\n",
    "TEST_IMG_DIR = \"Data/aptos2019-blindness-detection/test_images\"\n",
    "TEST_CSV_PATH = \"Data/aptos2019-blindness-detection/test.csv\"\n",
    "\n",
    "# Model parameters (must match the settings used during training)\n",
    "IMG_SIZE = 224\n",
    "BATCH_SIZE = 32 # We can use a larger batch size for inference if memory allows\n",
    "\n",
    "# --- Load Test Metadata ---\n",
    "try:\n",
    "    test_df = pd.read_csv(TEST_CSV_PATH)\n",
    "    # Construct the full filepath for each test image\n",
    "    test_df['filepath'] = test_df['id_code'].apply(lambda x: os.path.join(TEST_IMG_DIR, f\"{x}.png\"))\n",
    "    print(f\"✅ Successfully loaded test metadata for {len(test_df)} images.\")\n",
    "except FileNotFoundError:\n",
    "    print(f\"❌ ERROR: Could not find the test.csv file at {TEST_CSV_PATH}\")\n",
    "    test_df = pd.DataFrame()\n",
    "\n",
    "if not test_df.empty:\n",
    "    print(\"\\nTest data ready for prediction.\")"
   ],
   "id": "59eb2cd8d731053f",
   "outputs": [
    {
     "name": "stdout",
     "output_type": "stream",
     "text": [
      "✅ Successfully loaded test metadata for 1928 images.\n",
      "\n",
      "Test data ready for prediction.\n"
     ]
    }
   ],
   "execution_count": 5
  },
  {
   "metadata": {},
   "cell_type": "markdown",
   "source": [
    "### Path Verification and Data Generator Setup\n",
    "\n",
    "Before creating the generator, it's crucial to verify that our file paths are correct. The following \"Sanity Check\" will print the current working directory and check if the first image file exists. If this check fails, you may need to adjust the `TEST_IMG_DIR` variable above."
   ],
   "id": "4b24074144316d9"
  },
  {
   "metadata": {
    "ExecuteTime": {
     "end_time": "2025-10-03T14:52:54.529478Z",
     "start_time": "2025-10-03T14:52:54.060439Z"
    }
   },
   "cell_type": "code",
   "source": [
    "if not test_df.empty:\n",
    "    # --- Sanity Check ---\n",
    "    print(\"--- Path Sanity Check ---\")\n",
    "    print(f\"Current Working Directory: {os.getcwd()}\")\n",
    "\n",
    "    # Check the first file path\n",
    "    first_filepath = test_df['filepath'].iloc[0]\n",
    "    print(f\"Checking for file at: {first_filepath}\")\n",
    "\n",
    "    if os.path.exists(first_filepath):\n",
    "        print(\"✅ Sanity check passed: First image found successfully.\")\n",
    "    else:\n",
    "        print(\"❌ SANITY CHECK FAILED: Could not find the first image.\")\n",
    "        print(\"Please check your 'TEST_IMG_DIR' path and your script's working directory.\")\n",
    "    print(\"---------------------------\\n\")\n",
    "\n",
    "\n",
    "    # --- Create Generator ---\n",
    "    # Create a generator for the TEST data (only rescaling)\n",
    "    test_datagen = ImageDataGenerator(rescale=1./255)\n",
    "\n",
    "    test_generator = test_datagen.flow_from_dataframe(\n",
    "        dataframe=test_df,\n",
    "        x_col='filepath',\n",
    "        y_col=None, # No labels for the test set\n",
    "        target_size=(IMG_SIZE, IMG_SIZE),\n",
    "        batch_size=BATCH_SIZE,\n",
    "        class_mode=None, # Crucial for unlabeled data\n",
    "        shuffle=False # DO NOT shuffle test data\n",
    "    )\n",
    "    print(\"✅ Test data generator created.\")"
   ],
   "id": "541d801c6fadd98d",
   "outputs": [
    {
     "name": "stdout",
     "output_type": "stream",
     "text": [
      "--- Path Sanity Check ---\n",
      "Current Working Directory: D:\\__Monica Documents\\PyCharm Repo\\ML Evolution Lab Repo\\01_Projects\\Diabetic Retinopathy Detection\n",
      "Checking for file at: Data/aptos2019-blindness-detection/test_images\\0005cfc8afb6.png\n",
      "✅ Sanity check passed: First image found successfully.\n",
      "---------------------------\n",
      "\n",
      "Found 1928 validated image filenames.\n",
      "✅ Test data generator created.\n"
     ]
    }
   ],
   "execution_count": 6
  },
  {
   "metadata": {},
   "cell_type": "markdown",
   "source": [
    "### Load Model and Make Predictions\n",
    "\n",
    "With our paths verified, we will now load our best-performing model and use it to predict the diagnosis for each image in the test set."
   ],
   "id": "ff48e20252f60765"
  },
  {
   "metadata": {
    "ExecuteTime": {
     "end_time": "2025-10-03T14:54:35.116210Z",
     "start_time": "2025-10-03T14:52:57.794427Z"
    }
   },
   "cell_type": "code",
   "source": [
    "if not test_df.empty and test_generator.n > 0:\n",
    "    # 1. Load the best saved model\n",
    "    try:\n",
    "        print(f\"Loading the best model from '{MODEL_PATH}'...\")\n",
    "        best_model = load_model(MODEL_PATH)\n",
    "        print(\"✅ Model loaded successfully.\")\n",
    "    except Exception as e:\n",
    "        print(f\"❌ ERROR: Could not load the model. Ensure '{MODEL_PATH}' exists. Error: {e}\")\n",
    "        best_model = None\n",
    "\n",
    "    # 2. Make predictions on the test data\n",
    "    if best_model is not None:\n",
    "        print(\"\\nMaking predictions on the test data. This may take a few minutes...\")\n",
    "\n",
    "        y_pred_probs = best_model.predict(test_generator, steps=len(test_generator))\n",
    "        y_pred = np.argmax(y_pred_probs, axis=1)\n",
    "\n",
    "        print(\"✅ Predictions complete.\")\n",
    "        print(f\"Sample predictions (first 5): {y_pred[:5]}\")\n",
    "else:\n",
    "    print(\"Skipping prediction because the test generator is empty.\")"
   ],
   "id": "52738ce16ec46e18",
   "outputs": [
    {
     "name": "stdout",
     "output_type": "stream",
     "text": [
      "Loading the best model from 'best_model.keras'...\n",
      "✅ Model loaded successfully.\n",
      "\n",
      "Making predictions on the test data. This may take a few minutes...\n"
     ]
    },
    {
     "name": "stderr",
     "output_type": "stream",
     "text": [
      "D:\\__Monica Documents\\PyCharm Repo\\ML Evolution Lab Repo\\.venv\\Lib\\site-packages\\keras\\src\\trainers\\data_adapters\\py_dataset_adapter.py:121: UserWarning: Your `PyDataset` class should call `super().__init__(**kwargs)` in its constructor. `**kwargs` can include `workers`, `use_multiprocessing`, `max_queue_size`. Do not pass these arguments to `fit()`, as they will be ignored.\n",
      "  self._warn_if_super_not_called()\n"
     ]
    },
    {
     "name": "stdout",
     "output_type": "stream",
     "text": [
      "\u001B[1m61/61\u001B[0m \u001B[32m━━━━━━━━━━━━━━━━━━━━\u001B[0m\u001B[37m\u001B[0m \u001B[1m91s\u001B[0m 1s/step\n",
      "✅ Predictions complete.\n",
      "Sample predictions (first 5): [1 3 2 2 3]\n"
     ]
    }
   ],
   "execution_count": 7
  },
  {
   "metadata": {},
   "cell_type": "markdown",
   "source": [
    "### Create and Save Submission File\n",
    "\n",
    "This is the final operational step. We will now create a new DataFrame, populate it with the image IDs from our test set and our model's predictions, and save it to `submission.csv` in the format required by the Kaggle competition."
   ],
   "id": "f0129be8e5725770"
  },
  {
   "metadata": {
    "ExecuteTime": {
     "end_time": "2025-10-03T14:59:41.077755Z",
     "start_time": "2025-10-03T14:59:37.423939Z"
    }
   },
   "cell_type": "code",
   "source": [
    "SUBMISSION_CSV_PATH = \"Data/aptos2019-blindness-detection/Final_Submission.csv\"\n",
    "\n",
    "if 'y_pred' in locals():\n",
    "    # 1. Create a new DataFrame for the submission\n",
    "    submission_df = pd.DataFrame({\n",
    "        'id_code': test_df['id_code'],\n",
    "        'diagnosis': y_pred\n",
    "    })\n",
    "\n",
    "    # 2. Save the DataFrame to a CSV file\n",
    "    # `index=False` is crucial to prevent pandas from writing row numbers\n",
    "    submission_df.to_csv(SUBMISSION_CSV_PATH, index=False)\n",
    "\n",
    "    print(f\"\\n✅ Submission file created successfully at: {SUBMISSION_CSV_PATH}\")\n",
    "    print(\"Sample of the submission file:\")\n",
    "    print(submission_df.head())\n",
    "else:\n",
    "    print(\"\\nSkipping submission file creation because no predictions were made.\")"
   ],
   "id": "2852a5f4ff446220",
   "outputs": [
    {
     "name": "stdout",
     "output_type": "stream",
     "text": [
      "\n",
      "✅ Submission file created successfully at: Data/aptos2019-blindness-detection/Final_Submission.csv\n",
      "Sample of the submission file:\n",
      "        id_code  diagnosis\n",
      "0  0005cfc8afb6          1\n",
      "1  003f0afdcd15          3\n",
      "2  006efc72b638          2\n",
      "3  00836aaacf06          2\n",
      "4  009245722fa4          3\n"
     ]
    }
   ],
   "execution_count": 8
  }
 ],
 "metadata": {
  "kernelspec": {
   "display_name": "Python 3",
   "language": "python",
   "name": "python3"
  },
  "language_info": {
   "codemirror_mode": {
    "name": "ipython",
    "version": 2
   },
   "file_extension": ".py",
   "mimetype": "text/x-python",
   "name": "python",
   "nbconvert_exporter": "python",
   "pygments_lexer": "ipython2",
   "version": "2.7.6"
  }
 },
 "nbformat": 4,
 "nbformat_minor": 5
}
