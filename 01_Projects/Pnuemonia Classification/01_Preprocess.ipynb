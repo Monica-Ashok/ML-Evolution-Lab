{
 "cells": [
  {
   "cell_type": "markdown",
   "id": "72aed51c",
   "metadata": {},
   "source": [
    "# Chest X-Ray Pneumonia Classification – Preprocessing\n",
    "\n",
    "## 🎯 Objective\n",
    "The goal of this notebook is to **scan the dataset and create a clean metadata file**. This file will act as a map to our image files, containing their paths, labels, and splits, while ensuring there are no duplicates or corrupted files.\n",
    "\n",
    "This approach is memory-efficient because we are not loading the actual image pixels into memory.\n",
    "\n",
    "---\n",
    "\n",
    "## 🧾 Why This Project?\n",
    "Pneumonia is a serious lung infection, and chest X-rays are one of the most common tools used for diagnosis.  \n",
    "However, diagnosis requires expertise and time. By building an **automated classification model**, we can:\n",
    "- Assist radiologists in decision-making.  \n",
    "- Speed up early detection.  \n",
    "- Provide a scalable solution for areas with limited healthcare resources.  \n",
    "\n",
    "This preprocessing step is the **foundation** of our machine learning pipeline. Clean data → Better models → Stronger results.  \n",
    "\n",
    "---\n",
    "\n",
    "## 📂 Dataset\n",
    "The dataset comes from [Kaggle – Chest X-Ray Images (Pneumonia)](https://www.kaggle.com/datasets/paultimothymooney/chest-xray-pneumonia).  \n",
    "\n",
    "\n",
    "The dataset is **already split** into `train`, `val`, and `test` sets.  \n",
    "- `train/` → Model training  \n",
    "- `val/` → Hyperparameter tuning  \n",
    "- `test/` → Final evaluation  \n"
   ]
  },
  {
   "cell_type": "code",
   "execution_count": 1,
   "id": "d0342950",
   "metadata": {},
   "outputs": [
    {
     "name": "stdout",
     "output_type": "stream",
     "text": [
      "✅ Libraries imported.\n"
     ]
    }
   ],
   "source": [
    "#Import Libraries\n",
    "import os\n",
    "import hashlib\n",
    "import pandas as pd\n",
    "from tqdm import tqdm\n",
    "from PIL import Image # Using Pillow to quickly verify images\n",
    "\n",
    "print(\"✅ Libraries imported.\")\n"
   ]
  },
  {
   "cell_type": "markdown",
   "id": "021c3367",
   "metadata": {},
   "source": [
    "### Step 1: Collect Image Paths & Labels\n",
    "\n",
    "We'll start by looping through the data directory to gather the filepath and corresponding label for every image."
   ]
  },
  {
   "cell_type": "code",
   "execution_count": 2,
   "id": "d7cd7ed4",
   "metadata": {},
   "outputs": [
    {
     "name": "stdout",
     "output_type": "stream",
     "text": [
      "Found 5856 total image paths.\n"
     ]
    },
    {
     "data": {
      "text/html": [
       "<div>\n",
       "<style scoped>\n",
       "    .dataframe tbody tr th:only-of-type {\n",
       "        vertical-align: middle;\n",
       "    }\n",
       "\n",
       "    .dataframe tbody tr th {\n",
       "        vertical-align: top;\n",
       "    }\n",
       "\n",
       "    .dataframe thead th {\n",
       "        text-align: right;\n",
       "    }\n",
       "</style>\n",
       "<table border=\"1\" class=\"dataframe\">\n",
       "  <thead>\n",
       "    <tr style=\"text-align: right;\">\n",
       "      <th></th>\n",
       "      <th>filepath</th>\n",
       "      <th>label</th>\n",
       "      <th>split</th>\n",
       "    </tr>\n",
       "  </thead>\n",
       "  <tbody>\n",
       "    <tr>\n",
       "      <th>0</th>\n",
       "      <td>Data/chest_xray\\train\\NORMAL\\IM-0115-0001.jpeg</td>\n",
       "      <td>NORMAL</td>\n",
       "      <td>train</td>\n",
       "    </tr>\n",
       "    <tr>\n",
       "      <th>1</th>\n",
       "      <td>Data/chest_xray\\train\\NORMAL\\IM-0117-0001.jpeg</td>\n",
       "      <td>NORMAL</td>\n",
       "      <td>train</td>\n",
       "    </tr>\n",
       "    <tr>\n",
       "      <th>2</th>\n",
       "      <td>Data/chest_xray\\train\\NORMAL\\IM-0119-0001.jpeg</td>\n",
       "      <td>NORMAL</td>\n",
       "      <td>train</td>\n",
       "    </tr>\n",
       "    <tr>\n",
       "      <th>3</th>\n",
       "      <td>Data/chest_xray\\train\\NORMAL\\IM-0122-0001.jpeg</td>\n",
       "      <td>NORMAL</td>\n",
       "      <td>train</td>\n",
       "    </tr>\n",
       "    <tr>\n",
       "      <th>4</th>\n",
       "      <td>Data/chest_xray\\train\\NORMAL\\IM-0125-0001.jpeg</td>\n",
       "      <td>NORMAL</td>\n",
       "      <td>train</td>\n",
       "    </tr>\n",
       "  </tbody>\n",
       "</table>\n",
       "</div>"
      ],
      "text/plain": [
       "                                         filepath   label  split\n",
       "0  Data/chest_xray\\train\\NORMAL\\IM-0115-0001.jpeg  NORMAL  train\n",
       "1  Data/chest_xray\\train\\NORMAL\\IM-0117-0001.jpeg  NORMAL  train\n",
       "2  Data/chest_xray\\train\\NORMAL\\IM-0119-0001.jpeg  NORMAL  train\n",
       "3  Data/chest_xray\\train\\NORMAL\\IM-0122-0001.jpeg  NORMAL  train\n",
       "4  Data/chest_xray\\train\\NORMAL\\IM-0125-0001.jpeg  NORMAL  train"
      ]
     },
     "execution_count": 2,
     "metadata": {},
     "output_type": "execute_result"
    }
   ],
   "source": [
    "# Define base directory\n",
    "base_dir = \"Data/chest_xray\"\n",
    "splits = [\"train\", \"val\", \"test\"]\n",
    "categories = [\"NORMAL\", \"PNEUMONIA\"]\n",
    "\n",
    "# Build a list of dictionaries with image data\n",
    "image_data = []\n",
    "for split in splits:\n",
    "    for category in categories:\n",
    "        folder_path = os.path.join(base_dir, split, category)\n",
    "        # Check if folder exists to prevent errors\n",
    "        if not os.path.isdir(folder_path):\n",
    "            continue\n",
    "        for img_file in os.listdir(folder_path):\n",
    "            image_data.append({\n",
    "                \"filepath\": os.path.join(folder_path, img_file),\n",
    "                \"label\": category,\n",
    "                \"split\": split\n",
    "            })\n",
    "\n",
    "df = pd.DataFrame(image_data)\n",
    "print(f\"Found {len(df)} total image paths.\")\n",
    "df.head()"
   ]
  },
  {
   "cell_type": "markdown",
   "id": "a76f76cc",
   "metadata": {},
   "source": [
    "### Step 2: Class Distribution\n",
    "Before cleaning, let’s check how many `NORMAL` vs. `PNEUMONIA` images exist in each split."
   ]
  },
  {
   "cell_type": "code",
   "execution_count": 4,
   "id": "f9b588d9",
   "metadata": {},
   "outputs": [
    {
     "name": "stdout",
     "output_type": "stream",
     "text": [
      "label  NORMAL  PNEUMONIA\n",
      "split                   \n",
      "test      234        390\n",
      "train    1341       3875\n",
      "val         8          8\n"
     ]
    },
    {
     "data": {
      "image/png": "[encoded data removed]",
      "text/plain": [
       "<Figure size 800x600 with 1 Axes>"
      ]
     },
     "metadata": {},
     "output_type": "display_data"
    }
   ],
   "source": [
    "import matplotlib.pyplot as plt\n",
    "\n",
    "# Count images in each split/category\n",
    "counts = df.groupby([\"split\", \"label\"]).size().unstack()\n",
    "print(counts)\n",
    "\n",
    "# Visualization\n",
    "counts.plot(kind=\"bar\", stacked=True, figsize=(8,6))\n",
    "plt.title(\"Class Distribution Across Splits\")\n",
    "plt.ylabel(\"Number of Images\")\n",
    "plt.show()"
   ]
  },
  {
   "cell_type": "markdown",
   "id": "5fea3ad3",
   "metadata": {},
   "source": [
    "### Step 3: Remove Duplicates\n",
    "\n",
    "\n",
    "Now, we'll ensure every entry in our dataframe points to a valid, unique image.\n",
    "- **Corrupted Files**: We'll try to open each image. If it fails, we mark it for removal.\n",
    "- **Duplicate Files**: We'll generate an **MD5 hash** (a unique signature) for each image file to find and remove exact duplicates."
   ]
  },
  {
   "cell_type": "code",
   "execution_count": 5,
   "id": "01d43427",
   "metadata": {},
   "outputs": [
    {
     "name": "stderr",
     "output_type": "stream",
     "text": [
      "Verifying Images: 100%|██████████| 5856/5856 [01:39<00:00, 58.58it/s] \n"
     ]
    },
    {
     "name": "stdout",
     "output_type": "stream",
     "text": [
      "\n",
      "Original image count: 5856\n",
      "Clean image count: 5824\n",
      "Removed 32 corrupted or duplicate images.\n"
     ]
    }
   ],
   "source": [
    "def get_file_hash(filepath):\n",
    "    \"\"\"Calculates the MD5 hash of a file.\"\"\"\n",
    "    with open(filepath, \"rb\") as f:\n",
    "        return hashlib.md5(f.read()).hexdigest()\n",
    "\n",
    "valid_images = []\n",
    "hashes = set()\n",
    "for index, row in tqdm(df.iterrows(), total=df.shape[0], desc=\"Verifying Images\"):\n",
    "    filepath = row['filepath']\n",
    "    try:\n",
    "        # 1. Check if it's a valid image file that can be opened\n",
    "        img = Image.open(filepath)\n",
    "        img.verify() # Verify that it is, in fact, an image\n",
    "\n",
    "        # 2. Check for duplicates using hashing\n",
    "        file_hash = get_file_hash(filepath)\n",
    "        if file_hash in hashes:\n",
    "            continue # Skip if it's a duplicate\n",
    "        \n",
    "        hashes.add(file_hash)\n",
    "        valid_images.append(row)\n",
    "\n",
    "    except Exception as e:\n",
    "        print(f\"Skipping corrupted file: {filepath} due to {e}\")\n",
    "\n",
    "# Create a new, clean DataFrame\n",
    "clean_df = pd.DataFrame(valid_images)\n",
    "\n",
    "print(f\"\\nOriginal image count: {len(df)}\")\n",
    "print(f\"Clean image count: {len(clean_df)}\")\n",
    "print(f\"Removed {len(df) - len(clean_df)} corrupted or duplicate images.\")"
   ]
  },
  {
   "cell_type": "markdown",
   "id": "8910ceb6",
   "metadata": {},
   "source": [
    "### Step 4: Save Clean Metadata\n",
    "\n",
    "This is the **final and most important step**. We save our clean DataFrame to a CSV file. This single file will be the input for our EDA and Model Building notebooks, ensuring a reliable and reproducible workflow."
   ]
  },
  {
   "cell_type": "code",
   "execution_count": 6,
   "id": "56d5baca",
   "metadata": {},
   "outputs": [
    {
     "name": "stdout",
     "output_type": "stream",
     "text": [
      "✅ Clean metadata saved to Data/clean_metadata.csv\n"
     ]
    },
    {
     "data": {
      "text/html": [
       "<div>\n",
       "<style scoped>\n",
       "    .dataframe tbody tr th:only-of-type {\n",
       "        vertical-align: middle;\n",
       "    }\n",
       "\n",
       "    .dataframe tbody tr th {\n",
       "        vertical-align: top;\n",
       "    }\n",
       "\n",
       "    .dataframe thead th {\n",
       "        text-align: right;\n",
       "    }\n",
       "</style>\n",
       "<table border=\"1\" class=\"dataframe\">\n",
       "  <thead>\n",
       "    <tr style=\"text-align: right;\">\n",
       "      <th></th>\n",
       "      <th>filepath</th>\n",
       "      <th>label</th>\n",
       "      <th>split</th>\n",
       "    </tr>\n",
       "  </thead>\n",
       "  <tbody>\n",
       "    <tr>\n",
       "      <th>0</th>\n",
       "      <td>Data/chest_xray\\train\\NORMAL\\IM-0115-0001.jpeg</td>\n",
       "      <td>NORMAL</td>\n",
       "      <td>train</td>\n",
       "    </tr>\n",
       "    <tr>\n",
       "      <th>1</th>\n",
       "      <td>Data/chest_xray\\train\\NORMAL\\IM-0117-0001.jpeg</td>\n",
       "      <td>NORMAL</td>\n",
       "      <td>train</td>\n",
       "    </tr>\n",
       "    <tr>\n",
       "      <th>2</th>\n",
       "      <td>Data/chest_xray\\train\\NORMAL\\IM-0119-0001.jpeg</td>\n",
       "      <td>NORMAL</td>\n",
       "      <td>train</td>\n",
       "    </tr>\n",
       "    <tr>\n",
       "      <th>3</th>\n",
       "      <td>Data/chest_xray\\train\\NORMAL\\IM-0122-0001.jpeg</td>\n",
       "      <td>NORMAL</td>\n",
       "      <td>train</td>\n",
       "    </tr>\n",
       "    <tr>\n",
       "      <th>4</th>\n",
       "      <td>Data/chest_xray\\train\\NORMAL\\IM-0125-0001.jpeg</td>\n",
       "      <td>NORMAL</td>\n",
       "      <td>train</td>\n",
       "    </tr>\n",
       "  </tbody>\n",
       "</table>\n",
       "</div>"
      ],
      "text/plain": [
       "                                         filepath   label  split\n",
       "0  Data/chest_xray\\train\\NORMAL\\IM-0115-0001.jpeg  NORMAL  train\n",
       "1  Data/chest_xray\\train\\NORMAL\\IM-0117-0001.jpeg  NORMAL  train\n",
       "2  Data/chest_xray\\train\\NORMAL\\IM-0119-0001.jpeg  NORMAL  train\n",
       "3  Data/chest_xray\\train\\NORMAL\\IM-0122-0001.jpeg  NORMAL  train\n",
       "4  Data/chest_xray\\train\\NORMAL\\IM-0125-0001.jpeg  NORMAL  train"
      ]
     },
     "execution_count": 6,
     "metadata": {},
     "output_type": "execute_result"
    }
   ],
   "source": [
    "# Save the clean metadata to a CSV file\n",
    "output_path = \"Data/clean_metadata.csv\"\n",
    "clean_df.to_csv(output_path, index=False)\n",
    "\n",
    "print(f\"✅ Clean metadata saved to {output_path}\")\n",
    "clean_df.head()"
   ]
  }
 ],
 "metadata": {
  "kernelspec": {
   "display_name": "Python 3",
   "language": "python",
   "name": "python3"
  },
  "language_info": {
   "codemirror_mode": {
    "name": "ipython",
    "version": 3
   },
   "file_extension": ".py",
   "mimetype": "text/x-python",
   "name": "python",
   "nbconvert_exporter": "python",
   "pygments_lexer": "ipython3",
   "version": "3.13.7"
  }
 },
 "nbformat": 4,
 "nbformat_minor": 5
}
